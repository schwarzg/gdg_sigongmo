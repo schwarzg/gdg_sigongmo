{
 "cells": [
  {
   "cell_type": "code",
   "execution_count": 1,
   "metadata": {},
   "outputs": [
    {
     "name": "stderr",
     "output_type": "stream",
     "text": [
      "Using TensorFlow backend.\n"
     ]
    }
   ],
   "source": [
    "import numpy as np\n",
    "\n",
    "from keras.models import Sequential\n",
    "from keras.layers import Dropout, Dense, Activation\n",
    "from keras.optimizers import SGD\n",
    "from keras.layers.advanced_activations import LeakyReLU, PReLU\n",
    "\n",
    "from sklearn import datasets\n",
    "from sklearn.model_selection import train_test_split"
   ]
  },
  {
   "cell_type": "markdown",
   "metadata": {},
   "source": [
    "# Data"
   ]
  },
  {
   "cell_type": "code",
   "execution_count": 2,
   "metadata": {},
   "outputs": [],
   "source": [
    "mnist = datasets.fetch_mldata('MNIST original', data_home='.')"
   ]
  },
  {
   "cell_type": "code",
   "execution_count": 5,
   "metadata": {},
   "outputs": [],
   "source": [
    "n = len(mnist.data)\n",
    "indices = np.random.permutation(range(n))\n",
    "\n",
    "X = mnist.data[indices]\n",
    "y = mnist.target[indices]\n",
    "Y = np.eye(10)[y.astype(int)]"
   ]
  },
  {
   "cell_type": "code",
   "execution_count": 6,
   "metadata": {},
   "outputs": [
    {
     "name": "stdout",
     "output_type": "stream",
     "text": [
      "(56000, 784)\n",
      "(56000, 10)\n",
      "(14000, 784)\n",
      "(14000, 10)\n"
     ]
    },
    {
     "name": "stderr",
     "output_type": "stream",
     "text": [
      "/Users/rackhun/miniconda3/lib/python3.6/site-packages/sklearn/model_selection/_split.py:2026: FutureWarning: From version 0.21, test_size will always complement train_size unless both are specified.\n",
      "  FutureWarning)\n"
     ]
    }
   ],
   "source": [
    "X_train, X_test, Y_train, Y_test = train_test_split(X, Y, train_size=0.8)\n",
    "\n",
    "print(X_train.shape)\n",
    "print(Y_train.shape)\n",
    "print(X_test.shape)\n",
    "print(Y_test.shape)"
   ]
  },
  {
   "cell_type": "markdown",
   "metadata": {},
   "source": [
    "# Parameter"
   ]
  },
  {
   "cell_type": "code",
   "execution_count": 7,
   "metadata": {},
   "outputs": [],
   "source": [
    "n_in = len(X[0])\n",
    "n_hidden = 200\n",
    "n_out = len(Y[0])\n",
    "\n",
    "epochs = 100\n",
    "batch_size = 100"
   ]
  },
  {
   "cell_type": "markdown",
   "metadata": {},
   "source": [
    "# Model"
   ]
  },
  {
   "cell_type": "code",
   "execution_count": 8,
   "metadata": {},
   "outputs": [],
   "source": [
    "#model.add( Activation( 'sigmoid' ) )\n",
    "#model.add( Activation( 'tanh' ) )\n",
    "#model.add( Activation( 'relu' ) )\n",
    "#model.add( LeakyReLU( alpha=0.01 ) )\n",
    "#model.add( PReLU() )"
   ]
  },
  {
   "cell_type": "code",
   "execution_count": 25,
   "metadata": {},
   "outputs": [],
   "source": [
    "model = Sequential()\n",
    "\n",
    "model.add( Dense( n_hidden, input_dim=n_in ) )\n",
    "#model.add( Activation( 'relu' ) )\n",
    "#model.add( LeakyReLU( alpha=0.01 ) )\n",
    "#model.add( PReLU() )\n",
    "#model.add( Activation( 'tanh' ) )\n",
    "model.add( Activation( 'sigmoid' ) )\n",
    "model.add(Dropout(0.5))\n",
    "\n",
    "model.add( Dense( n_hidden, input_dim=n_hidden ) )\n",
    "#model.add( Activation( 'relu' ) )\n",
    "#model.add( LeakyReLU( alpha=0.01 ) )\n",
    "#model.add( PReLU() )\n",
    "#model.add( Activation( 'tanh' ) )\n",
    "model.add( Activation( 'sigmoid' ) )\n",
    "model.add(Dropout(0.5))\n",
    "\n",
    "model.add( Dense( n_hidden, input_dim=n_hidden ) )\n",
    "#model.add( Activation( 'relu' ) )\n",
    "#model.add( LeakyReLU( alpha=0.01 ) )\n",
    "#model.add( PReLU() )\n",
    "#model.add( Activation( 'tanh' ) )\n",
    "model.add( Activation( 'sigmoid' ) )\n",
    "model.add(Dropout(0.5))\n",
    "\n",
    "model.add( Dense( n_out, input_dim=n_hidden ))\n",
    "model.add( Activation( 'softmax' ) )\n",
    "\n",
    "model.compile( loss='categorical_crossentropy', optimizer=SGD(lr=0.001), metrics=[ 'accuracy' ])"
   ]
  },
  {
   "cell_type": "markdown",
   "metadata": {},
   "source": [
    "# Train"
   ]
  },
  {
   "cell_type": "code",
   "execution_count": 26,
   "metadata": {},
   "outputs": [
    {
     "name": "stdout",
     "output_type": "stream",
     "text": [
      "Epoch 1/100\n",
      "56000/56000 [==============================] - 2s 43us/step - loss: 2.5861 - acc: 0.1029\n",
      "Epoch 2/100\n",
      "56000/56000 [==============================] - 2s 36us/step - loss: 2.5160 - acc: 0.1020\n",
      "Epoch 3/100\n",
      "56000/56000 [==============================] - 2s 36us/step - loss: 2.4950 - acc: 0.1057\n",
      "Epoch 4/100\n",
      "56000/56000 [==============================] - 2s 36us/step - loss: 2.4784 - acc: 0.1076\n",
      "Epoch 5/100\n",
      "56000/56000 [==============================] - 2s 36us/step - loss: 2.4598 - acc: 0.1096\n",
      "Epoch 6/100\n",
      "56000/56000 [==============================] - 2s 36us/step - loss: 2.4451 - acc: 0.1126\n",
      "Epoch 7/100\n",
      "56000/56000 [==============================] - 2s 36us/step - loss: 2.4353 - acc: 0.1129\n",
      "Epoch 8/100\n",
      "56000/56000 [==============================] - 2s 36us/step - loss: 2.4168 - acc: 0.1158\n",
      "Epoch 9/100\n",
      "56000/56000 [==============================] - 2s 37us/step - loss: 2.3997 - acc: 0.1205\n",
      "Epoch 10/100\n",
      "56000/56000 [==============================] - 2s 36us/step - loss: 2.3888 - acc: 0.1223\n",
      "Epoch 11/100\n",
      "56000/56000 [==============================] - 2s 36us/step - loss: 2.3777 - acc: 0.1254\n",
      "Epoch 12/100\n",
      "56000/56000 [==============================] - 2s 36us/step - loss: 2.3693 - acc: 0.1273\n",
      "Epoch 13/100\n",
      "56000/56000 [==============================] - 2s 36us/step - loss: 2.3530 - acc: 0.1309\n",
      "Epoch 14/100\n",
      "56000/56000 [==============================] - 2s 36us/step - loss: 2.3451 - acc: 0.1332\n",
      "Epoch 15/100\n",
      "56000/56000 [==============================] - 2s 36us/step - loss: 2.3352 - acc: 0.1390\n",
      "Epoch 16/100\n",
      "56000/56000 [==============================] - 2s 36us/step - loss: 2.3236 - acc: 0.1412\n",
      "Epoch 17/100\n",
      "56000/56000 [==============================] - 2s 36us/step - loss: 2.3143 - acc: 0.1438\n",
      "Epoch 18/100\n",
      "56000/56000 [==============================] - 2s 36us/step - loss: 2.3034 - acc: 0.1488\n",
      "Epoch 19/100\n",
      "56000/56000 [==============================] - 2s 36us/step - loss: 2.2974 - acc: 0.1499\n",
      "Epoch 20/100\n",
      "56000/56000 [==============================] - 2s 36us/step - loss: 2.2839 - acc: 0.1587\n",
      "Epoch 21/100\n",
      "56000/56000 [==============================] - 2s 37us/step - loss: 2.2692 - acc: 0.1650\n",
      "Epoch 22/100\n",
      "56000/56000 [==============================] - 2s 36us/step - loss: 2.2675 - acc: 0.1659\n",
      "Epoch 23/100\n",
      "56000/56000 [==============================] - 2s 36us/step - loss: 2.2480 - acc: 0.1753\n",
      "Epoch 24/100\n",
      "56000/56000 [==============================] - 2s 37us/step - loss: 2.2392 - acc: 0.1786\n",
      "Epoch 25/100\n",
      "56000/56000 [==============================] - 2s 36us/step - loss: 2.2329 - acc: 0.1859\n",
      "Epoch 26/100\n",
      "56000/56000 [==============================] - 2s 36us/step - loss: 2.2211 - acc: 0.1893\n",
      "Epoch 27/100\n",
      "56000/56000 [==============================] - 2s 37us/step - loss: 2.2091 - acc: 0.1958\n",
      "Epoch 28/100\n",
      "56000/56000 [==============================] - 2s 36us/step - loss: 2.1918 - acc: 0.2022\n",
      "Epoch 29/100\n",
      "56000/56000 [==============================] - 2s 36us/step - loss: 2.1869 - acc: 0.2047\n",
      "Epoch 30/100\n",
      "56000/56000 [==============================] - 2s 36us/step - loss: 2.1733 - acc: 0.2109\n",
      "Epoch 31/100\n",
      "56000/56000 [==============================] - 2s 36us/step - loss: 2.1595 - acc: 0.2198\n",
      "Epoch 32/100\n",
      "56000/56000 [==============================] - 2s 36us/step - loss: 2.1427 - acc: 0.2279\n",
      "Epoch 33/100\n",
      "56000/56000 [==============================] - 2s 36us/step - loss: 2.1320 - acc: 0.2302\n",
      "Epoch 34/100\n",
      "56000/56000 [==============================] - 2s 37us/step - loss: 2.1190 - acc: 0.2357\n",
      "Epoch 35/100\n",
      "56000/56000 [==============================] - 2s 36us/step - loss: 2.0995 - acc: 0.2479\n",
      "Epoch 36/100\n",
      "56000/56000 [==============================] - 2s 37us/step - loss: 2.0845 - acc: 0.2555\n",
      "Epoch 37/100\n",
      "56000/56000 [==============================] - 2s 36us/step - loss: 2.0724 - acc: 0.2575\n",
      "Epoch 38/100\n",
      "56000/56000 [==============================] - 2s 36us/step - loss: 2.0492 - acc: 0.2689\n",
      "Epoch 39/100\n",
      "56000/56000 [==============================] - 2s 37us/step - loss: 2.0359 - acc: 0.2732\n",
      "Epoch 40/100\n",
      "56000/56000 [==============================] - 2s 36us/step - loss: 2.0182 - acc: 0.2781\n",
      "Epoch 41/100\n",
      "56000/56000 [==============================] - 2s 37us/step - loss: 2.0020 - acc: 0.2870\n",
      "Epoch 42/100\n",
      "56000/56000 [==============================] - 2s 36us/step - loss: 1.9802 - acc: 0.2924\n",
      "Epoch 43/100\n",
      "56000/56000 [==============================] - 2s 36us/step - loss: 1.9601 - acc: 0.3027\n",
      "Epoch 44/100\n",
      "56000/56000 [==============================] - 2s 36us/step - loss: 1.9434 - acc: 0.3053\n",
      "Epoch 45/100\n",
      "56000/56000 [==============================] - 2s 36us/step - loss: 1.9253 - acc: 0.3133\n",
      "Epoch 46/100\n",
      "56000/56000 [==============================] - 2s 36us/step - loss: 1.9045 - acc: 0.3164\n",
      "Epoch 47/100\n",
      "56000/56000 [==============================] - 2s 36us/step - loss: 1.8864 - acc: 0.3227\n",
      "Epoch 48/100\n",
      "56000/56000 [==============================] - 2s 37us/step - loss: 1.8657 - acc: 0.3301\n",
      "Epoch 49/100\n",
      "56000/56000 [==============================] - 2s 36us/step - loss: 1.8477 - acc: 0.3341\n",
      "Epoch 50/100\n",
      "56000/56000 [==============================] - 2s 36us/step - loss: 1.8289 - acc: 0.3409\n",
      "Epoch 51/100\n",
      "56000/56000 [==============================] - 2s 37us/step - loss: 1.8107 - acc: 0.3454\n",
      "Epoch 52/100\n",
      "56000/56000 [==============================] - 2s 36us/step - loss: 1.7919 - acc: 0.3509: 0s - loss: 1.7894 - \n",
      "Epoch 53/100\n",
      "56000/56000 [==============================] - 2s 37us/step - loss: 1.7716 - acc: 0.3557\n",
      "Epoch 54/100\n",
      "56000/56000 [==============================] - 2s 37us/step - loss: 1.7547 - acc: 0.3626\n",
      "Epoch 55/100\n",
      "56000/56000 [==============================] - 2s 37us/step - loss: 1.7384 - acc: 0.3670\n",
      "Epoch 56/100\n",
      "56000/56000 [==============================] - 2s 37us/step - loss: 1.7190 - acc: 0.3718\n",
      "Epoch 57/100\n",
      "56000/56000 [==============================] - 2s 37us/step - loss: 1.7078 - acc: 0.3715\n",
      "Epoch 58/100\n",
      "56000/56000 [==============================] - 2s 37us/step - loss: 1.6902 - acc: 0.3813\n",
      "Epoch 59/100\n",
      "56000/56000 [==============================] - 2s 36us/step - loss: 1.6723 - acc: 0.3845: 1s - \n",
      "Epoch 60/100\n",
      "56000/56000 [==============================] - 2s 37us/step - loss: 1.6565 - acc: 0.3895\n",
      "Epoch 61/100\n",
      "56000/56000 [==============================] - 2s 37us/step - loss: 1.6403 - acc: 0.3961\n",
      "Epoch 62/100\n",
      "56000/56000 [==============================] - 2s 37us/step - loss: 1.6240 - acc: 0.4041\n",
      "Epoch 63/100\n",
      "56000/56000 [==============================] - 2s 37us/step - loss: 1.6109 - acc: 0.4047\n",
      "Epoch 64/100\n",
      "56000/56000 [==============================] - 2s 36us/step - loss: 1.5993 - acc: 0.4090\n",
      "Epoch 65/100\n",
      "56000/56000 [==============================] - 2s 37us/step - loss: 1.5840 - acc: 0.4184\n",
      "Epoch 66/100\n",
      "56000/56000 [==============================] - 2s 37us/step - loss: 1.5729 - acc: 0.4204\n",
      "Epoch 67/100\n",
      "56000/56000 [==============================] - 2s 37us/step - loss: 1.5586 - acc: 0.4232\n",
      "Epoch 68/100\n",
      "56000/56000 [==============================] - 2s 37us/step - loss: 1.5442 - acc: 0.4298\n",
      "Epoch 69/100\n",
      "56000/56000 [==============================] - 2s 36us/step - loss: 1.5331 - acc: 0.4335\n",
      "Epoch 70/100\n",
      "56000/56000 [==============================] - 2s 37us/step - loss: 1.5177 - acc: 0.4384\n",
      "Epoch 71/100\n",
      "56000/56000 [==============================] - 2s 37us/step - loss: 1.5066 - acc: 0.4453\n",
      "Epoch 72/100\n",
      "56000/56000 [==============================] - 2s 37us/step - loss: 1.4935 - acc: 0.4484\n",
      "Epoch 73/100\n",
      "56000/56000 [==============================] - 2s 37us/step - loss: 1.4825 - acc: 0.4534: 0s - loss: 1.4837 - \n",
      "Epoch 74/100\n",
      "56000/56000 [==============================] - 2s 39us/step - loss: 1.4685 - acc: 0.4593\n",
      "Epoch 75/100\n",
      "56000/56000 [==============================] - 2s 37us/step - loss: 1.4542 - acc: 0.4622\n",
      "Epoch 76/100\n",
      "56000/56000 [==============================] - 2s 37us/step - loss: 1.4438 - acc: 0.4679\n",
      "Epoch 77/100\n",
      "56000/56000 [==============================] - 2s 37us/step - loss: 1.4250 - acc: 0.4764\n",
      "Epoch 78/100\n",
      "56000/56000 [==============================] - 2s 37us/step - loss: 1.4178 - acc: 0.4828\n",
      "Epoch 79/100\n",
      "56000/56000 [==============================] - 2s 37us/step - loss: 1.4045 - acc: 0.4871\n",
      "Epoch 80/100\n"
     ]
    },
    {
     "name": "stdout",
     "output_type": "stream",
     "text": [
      "56000/56000 [==============================] - 2s 35us/step - loss: 1.3916 - acc: 0.4939\n",
      "Epoch 81/100\n",
      "56000/56000 [==============================] - 2s 35us/step - loss: 1.3804 - acc: 0.4946\n",
      "Epoch 82/100\n",
      "56000/56000 [==============================] - 2s 36us/step - loss: 1.3731 - acc: 0.5036\n",
      "Epoch 83/100\n",
      "56000/56000 [==============================] - 2s 35us/step - loss: 1.3534 - acc: 0.5063\n",
      "Epoch 84/100\n",
      "56000/56000 [==============================] - 2s 35us/step - loss: 1.3440 - acc: 0.5139\n",
      "Epoch 85/100\n",
      "56000/56000 [==============================] - 2s 35us/step - loss: 1.3347 - acc: 0.5146\n",
      "Epoch 86/100\n",
      "56000/56000 [==============================] - 2s 37us/step - loss: 1.3220 - acc: 0.5193\n",
      "Epoch 87/100\n",
      "56000/56000 [==============================] - 2s 36us/step - loss: 1.3127 - acc: 0.5224\n",
      "Epoch 88/100\n",
      "56000/56000 [==============================] - 2s 35us/step - loss: 1.2998 - acc: 0.5299\n",
      "Epoch 89/100\n",
      "56000/56000 [==============================] - 2s 35us/step - loss: 1.2867 - acc: 0.5366\n",
      "Epoch 90/100\n",
      "56000/56000 [==============================] - 2s 35us/step - loss: 1.2725 - acc: 0.5400\n",
      "Epoch 91/100\n",
      "56000/56000 [==============================] - 2s 35us/step - loss: 1.2634 - acc: 0.5446\n",
      "Epoch 92/100\n",
      "56000/56000 [==============================] - 2s 35us/step - loss: 1.2528 - acc: 0.5507\n",
      "Epoch 93/100\n",
      "56000/56000 [==============================] - 2s 35us/step - loss: 1.2421 - acc: 0.5552\n",
      "Epoch 94/100\n",
      "56000/56000 [==============================] - 2s 35us/step - loss: 1.2269 - acc: 0.5623\n",
      "Epoch 95/100\n",
      "56000/56000 [==============================] - 2s 36us/step - loss: 1.2214 - acc: 0.5621\n",
      "Epoch 96/100\n",
      "56000/56000 [==============================] - 2s 35us/step - loss: 1.2134 - acc: 0.5667\n",
      "Epoch 97/100\n",
      "56000/56000 [==============================] - 2s 35us/step - loss: 1.1989 - acc: 0.5756\n",
      "Epoch 98/100\n",
      "56000/56000 [==============================] - 2s 39us/step - loss: 1.1921 - acc: 0.5772\n",
      "Epoch 99/100\n",
      "56000/56000 [==============================] - 2s 40us/step - loss: 1.1804 - acc: 0.5806\n",
      "Epoch 100/100\n",
      "56000/56000 [==============================] - 2s 37us/step - loss: 1.1721 - acc: 0.5839\n"
     ]
    },
    {
     "data": {
      "text/plain": [
       "<keras.callbacks.History at 0x12d03c9b0>"
      ]
     },
     "execution_count": 26,
     "metadata": {},
     "output_type": "execute_result"
    }
   ],
   "source": [
    "model.fit(X_train, Y_train, epochs=epochs, batch_size=batch_size)"
   ]
  },
  {
   "cell_type": "markdown",
   "metadata": {},
   "source": [
    "# Result (ReLU)"
   ]
  },
  {
   "cell_type": "code",
   "execution_count": 15,
   "metadata": {},
   "outputs": [
    {
     "name": "stdout",
     "output_type": "stream",
     "text": [
      "14000/14000 [==============================] - 0s 32us/step\n",
      "[0.31536338570713995, 0.9431428571428572]\n"
     ]
    }
   ],
   "source": [
    "loss_and_metrics = model.evaluate(X_test, Y_test)\n",
    "print(loss_and_metrics)"
   ]
  },
  {
   "cell_type": "markdown",
   "metadata": {},
   "source": [
    "# Result (Leaky Relu)"
   ]
  },
  {
   "cell_type": "code",
   "execution_count": 18,
   "metadata": {},
   "outputs": [
    {
     "name": "stdout",
     "output_type": "stream",
     "text": [
      "14000/14000 [==============================] - 0s 34us/step\n",
      "[0.22601606250873635, 0.9481428571428572]\n"
     ]
    }
   ],
   "source": [
    "loss_and_metrics = model.evaluate(X_test, Y_test)\n",
    "print(loss_and_metrics)"
   ]
  },
  {
   "cell_type": "markdown",
   "metadata": {},
   "source": [
    "# Result (PRelu)"
   ]
  },
  {
   "cell_type": "code",
   "execution_count": 21,
   "metadata": {},
   "outputs": [
    {
     "name": "stdout",
     "output_type": "stream",
     "text": [
      "14000/14000 [==============================] - 1s 36us/step\n",
      "[0.250539885027068, 0.9476428571428571]\n"
     ]
    }
   ],
   "source": [
    "loss_and_metrics = model.evaluate(X_test, Y_test)\n",
    "print(loss_and_metrics)"
   ]
  },
  {
   "cell_type": "markdown",
   "metadata": {},
   "source": [
    "# Result (tanh)"
   ]
  },
  {
   "cell_type": "code",
   "execution_count": 24,
   "metadata": {},
   "outputs": [
    {
     "name": "stdout",
     "output_type": "stream",
     "text": [
      "14000/14000 [==============================] - 0s 35us/step\n",
      "[0.2351774413138628, 0.9366428571428571]\n"
     ]
    }
   ],
   "source": [
    "loss_and_metrics = model.evaluate(X_test, Y_test)\n",
    "print(loss_and_metrics)"
   ]
  },
  {
   "cell_type": "markdown",
   "metadata": {},
   "source": [
    "# Result (sigmoid)"
   ]
  },
  {
   "cell_type": "code",
   "execution_count": 27,
   "metadata": {},
   "outputs": [
    {
     "name": "stdout",
     "output_type": "stream",
     "text": [
      "14000/14000 [==============================] - 1s 38us/step\n",
      "[0.9199333775384085, 0.7631428571428571]\n"
     ]
    }
   ],
   "source": [
    "loss_and_metrics = model.evaluate(X_test, Y_test)\n",
    "print(loss_and_metrics)"
   ]
  },
  {
   "cell_type": "code",
   "execution_count": null,
   "metadata": {},
   "outputs": [],
   "source": []
  }
 ],
 "metadata": {
  "kernelspec": {
   "display_name": "Python [conda env:miniconda3]",
   "language": "python",
   "name": "conda-env-miniconda3-py"
  },
  "language_info": {
   "codemirror_mode": {
    "name": "ipython",
    "version": 3
   },
   "file_extension": ".py",
   "mimetype": "text/x-python",
   "name": "python",
   "nbconvert_exporter": "python",
   "pygments_lexer": "ipython3",
   "version": "3.6.5"
  }
 },
 "nbformat": 4,
 "nbformat_minor": 2
}

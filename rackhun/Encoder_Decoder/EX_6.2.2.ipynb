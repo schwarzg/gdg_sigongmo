{
 "cells": [
  {
   "cell_type": "code",
   "execution_count": 1,
   "metadata": {},
   "outputs": [],
   "source": [
    "import numpy as np\n",
    "import tensorflow as tf\n",
    "from sklearn.model_selection import train_test_split\n",
    "from sklearn.utils import shuffle\n",
    "import matplotlib.pyplot as plt"
   ]
  },
  {
   "cell_type": "markdown",
   "metadata": {},
   "source": [
    "# Parameters"
   ]
  },
  {
   "cell_type": "code",
   "execution_count": 2,
   "metadata": {},
   "outputs": [],
   "source": [
    "N=60000\n",
    "\n",
    "digits = 3\n",
    "input_digits = digits*2 + 1\n",
    "output_digits = digits + 1\n",
    "\n",
    "n_epochs=200\n",
    "batch_size = 100"
   ]
  },
  {
   "cell_type": "markdown",
   "metadata": {},
   "source": [
    "# Data"
   ]
  },
  {
   "cell_type": "code",
   "execution_count": 3,
   "metadata": {},
   "outputs": [],
   "source": [
    "def n(digits=digits):\n",
    "    number = ''\n",
    "    \n",
    "    for i in range(np.random.randint(1, digits+1)):\n",
    "        number += np.random.choice(list('0123456789'))\n",
    "    \n",
    "    return int(number)"
   ]
  },
  {
   "cell_type": "code",
   "execution_count": 4,
   "metadata": {},
   "outputs": [],
   "source": [
    "def padding(chars, maxlen):\n",
    "    return chars + ' '*(maxlen - len(chars))"
   ]
  },
  {
   "cell_type": "code",
   "execution_count": 5,
   "metadata": {},
   "outputs": [],
   "source": [
    "added = set()\n",
    "questions = []\n",
    "answers = []\n",
    "\n",
    "while len(questions) < N:\n",
    "    \n",
    "    a, b = n(), n()\n",
    "    \n",
    "    pair = tuple(sorted((a, b)))\n",
    "    if pair in added:\n",
    "        continue\n",
    "        \n",
    "    question = '{}+{}'.format(a, b)\n",
    "    question = padding(question, input_digits)\n",
    "    \n",
    "    answer = str(a+b)\n",
    "    answer = padding(answer, output_digits)\n",
    "    \n",
    "    added.add(pair)\n",
    "    questions.append(question)\n",
    "    answers.append(answer)"
   ]
  },
  {
   "cell_type": "markdown",
   "metadata": {},
   "source": [
    "# One-hot encoding"
   ]
  },
  {
   "cell_type": "code",
   "execution_count": 6,
   "metadata": {},
   "outputs": [],
   "source": [
    "chars = '0123456789+ '\n",
    "char_indices = dict((c, i) for i, c in enumerate(chars))\n",
    "indices_char = dict((i, c) for i, c in enumerate(chars))"
   ]
  },
  {
   "cell_type": "code",
   "execution_count": 7,
   "metadata": {},
   "outputs": [],
   "source": [
    "X = np.zeros((len(questions), input_digits, len(chars)), dtype=np.integer)\n",
    "Y = np.zeros((len(questions), output_digits, len(chars)), dtype=np.integer)\n",
    "\n",
    "for i in range(N):\n",
    "    for t, char in enumerate(questions[i]):\n",
    "        X[i, t, char_indices[char]] = 1\n",
    "    \n",
    "    for t, char in enumerate(answers[i]):\n",
    "        Y[i, t, char_indices[char]] = 1"
   ]
  },
  {
   "cell_type": "markdown",
   "metadata": {},
   "source": [
    "# Train / Validation / Test Data"
   ]
  },
  {
   "cell_type": "code",
   "execution_count": 8,
   "metadata": {},
   "outputs": [
    {
     "name": "stderr",
     "output_type": "stream",
     "text": [
      "/Users/rackhun/miniconda3/lib/python3.6/site-packages/sklearn/model_selection/_split.py:2026: FutureWarning: From version 0.21, test_size will always complement train_size unless both are specified.\n",
      "  FutureWarning)\n"
     ]
    }
   ],
   "source": [
    "X_train, X_validation, Y_train, Y_validation = train_test_split(X, Y, train_size=0.7)"
   ]
  },
  {
   "cell_type": "markdown",
   "metadata": {},
   "source": [
    "# Model"
   ]
  },
  {
   "cell_type": "code",
   "execution_count": 9,
   "metadata": {},
   "outputs": [],
   "source": [
    "def inference(x, y, n_batch, is_training, input_digits=None, output_digits=None, n_hidden=None, n_out=None):\n",
    "    \n",
    "    def weight_variable(shape):\n",
    "        initial = tf.truncated_normal(shape, stddev=0.01)\n",
    "        return tf.Variable(initial)\n",
    "    \n",
    "    def bias_variable(shape):\n",
    "        initial = tf.zeros(shape, dtype = tf.float32)\n",
    "        return tf.Variable(initial)\n",
    "    \n",
    "    \n",
    "    # Encoder\n",
    "    encoder = tf.nn.rnn_cell.LSTMCell(n_hidden, forget_bias=1.0)\n",
    "    state = encoder.zero_state(n_batch, tf.float32)\n",
    "    encoder_outputs = []\n",
    "    encoder_states = []\n",
    "    \n",
    "    with tf.variable_scope('Encoder'):\n",
    "        for t in range(input_digits):\n",
    "            if t>0:\n",
    "                tf.get_variable_scope().reuse_variables()\n",
    "                \n",
    "            (output, state) = encoder(x[:, t, :], state)\n",
    "            \n",
    "            encoder_outputs.append(output)\n",
    "            encoder_states.append(state)\n",
    "    \n",
    "    # Decoder\n",
    "    decoder = tf.nn.rnn_cell.LSTMCell(n_hidden, forget_bias=1.0)\n",
    "    state = encoder_states[-1]\n",
    "    decoder_outputs = [encoder_outputs[-1]]\n",
    "    \n",
    "    #### Final layer variables\n",
    "    V = weight_variable([n_hidden, n_out])\n",
    "    c = bias_variable([n_out])\n",
    "    outputs = []\n",
    "    ####\n",
    "    \n",
    "    with tf.variable_scope('Decoder'):\n",
    "        for t in range(1, output_digits):\n",
    "            if t>1:\n",
    "                tf.get_variable_scope().reuse_variables()\n",
    "            \n",
    "            if is_training is True:\n",
    "                (output, state) = decoder(y[:, t-1, :], state)\n",
    "            else:\n",
    "                linear = tf.matmul(decoder_outputs[-1], V) + c\n",
    "                out = tf.nn.softmax(linear)\n",
    "                outputs.append(out)\n",
    "                #out = tf.one_hot(tf.argmax(out, -1), depth=output_digits)  ## ??\n",
    "                out = tf.one_hot(tf.argmax(out, -1), depth=n_out)\n",
    "                (output, state) = decoder(out, state)\n",
    "            \n",
    "            decoder_outputs.append(output)\n",
    "            \n",
    "\n",
    "    if is_training is True:\n",
    "        output = tf.reshape( tf.concat(decoder_outputs, axis=1), [-1, output_digits, n_hidden] )\n",
    "        linear = tf.einsum('ijk, kl -> ijl', output, V) + c\n",
    "        return tf.nn.softmax(linear)\n",
    "    \n",
    "    else:\n",
    "        linear = tf.matmul(decoder_outputs[-1], V) + c\n",
    "        out = tf.nn.softmax(linear)\n",
    "        outputs.append(out)\n",
    "        \n",
    "        output = tf.reshape(tf.concat(outputs, axis=1),\n",
    "                                        [-1, output_digits, n_out])\n",
    "        return output\n",
    "\n",
    "def loss (y, t):\n",
    "    cross_entropy = tf.reduce_mean( -tf.reduce_sum( t*tf.log(tf.clip_by_value(y, 1e-10, 1.0)), reduction_indices=[1]))\n",
    "    return cross_entropy\n",
    "\n",
    "def training(loss):\n",
    "    optimizer = tf.train.AdamOptimizer(learning_rate=0.001, beta1=0.9, beta2=0.999)\n",
    "    train_step = optimizer.minimize(loss)\n",
    "    return train_step\n",
    "\n",
    "def accuracy(y, t):\n",
    "    correct_prediction = tf.equal( tf.argmax(y, 1), tf.argmax(t, 1))\n",
    "    accuracy = tf.reduce_mean( tf.cast( correct_prediction, tf.float32 ))\n",
    "    return accuracy\n"
   ]
  },
  {
   "cell_type": "code",
   "execution_count": 10,
   "metadata": {},
   "outputs": [],
   "source": [
    "n_in = len(chars)\n",
    "n_hidden = 128\n",
    "n_out = len(chars)\n",
    "\n",
    "x = tf.placeholder(tf.float32, shape=[None, input_digits, n_in], name='x')\n",
    "t = tf.placeholder(tf.float32, shape=[None, output_digits, n_out], name='t')\n",
    "n_batch = tf.placeholder(tf.int32, [], name='batch_size')\n",
    "is_training = tf.placeholder(tf.bool)\n",
    "\n",
    "y = inference(x, t, n_batch, \n",
    "                      is_training = is_training,\n",
    "                      input_digits = input_digits,\n",
    "                      output_digits = output_digits,\n",
    "                      n_hidden = n_hidden,\n",
    "                      n_out = n_out)\n",
    "\n",
    "loss = loss(y, t)\n",
    "train_step = training(loss)\n",
    "acc = accuracy(y, t)"
   ]
  },
  {
   "cell_type": "markdown",
   "metadata": {},
   "source": [
    "# Training"
   ]
  },
  {
   "cell_type": "code",
   "execution_count": 11,
   "metadata": {},
   "outputs": [
    {
     "name": "stdout",
     "output_type": "stream",
     "text": [
      "0 th epoch\n",
      "----------\n",
      "Q:  6 + 7 3 3    \n",
      "A:  7 3 9  \n",
      "P:  5 4    \n",
      "T/F:  F\n",
      "----------\n",
      "Q:  2 6 0 + 4 7  \n",
      "A:  3 0 7  \n",
      "P:  5 0 4  \n",
      "T/F:  F\n",
      "20 th epoch\n",
      "----------\n",
      "Q:  6 0 + 8 2 6  \n",
      "A:  8 8 6  \n",
      "P:  8 8 5  \n",
      "T/F:  F\n",
      "----------\n",
      "Q:  3 6 1 + 4 4  \n",
      "A:  4 0 5  \n",
      "P:  3 9 5  \n",
      "T/F:  F\n",
      "40 th epoch\n",
      "----------\n",
      "Q:  3 8 9 + 5    \n",
      "A:  3 9 4  \n",
      "P:  3 9 4  \n",
      "T/F:  T\n",
      "----------\n",
      "Q:  5 6 3 + 5 3  \n",
      "A:  6 1 6  \n",
      "P:  6 1 6  \n",
      "T/F:  T\n",
      "60 th epoch\n",
      "----------\n",
      "Q:  9 + 7 5 9    \n",
      "A:  7 6 8  \n",
      "P:  7 6 8  \n",
      "T/F:  T\n",
      "----------\n",
      "Q:  6 5 2 + 2 1 9\n",
      "A:  8 7 1  \n",
      "P:  8 7 1  \n",
      "T/F:  T\n",
      "80 th epoch\n",
      "----------\n",
      "Q:  3 3 7 + 5 4 0\n",
      "A:  8 7 7  \n",
      "P:  8 7 7  \n",
      "T/F:  T\n",
      "----------\n",
      "Q:  2 1 4 + 4    \n",
      "A:  2 1 8  \n",
      "P:  2 1 8  \n",
      "T/F:  T\n",
      "100 th epoch\n",
      "----------\n",
      "Q:  5 1 4 + 7 6 2\n",
      "A:  1 2 7 6\n",
      "P:  1 2 7 6\n",
      "T/F:  T\n",
      "----------\n",
      "Q:  9 5 + 9 8    \n",
      "A:  1 9 3  \n",
      "P:  1 9 3  \n",
      "T/F:  T\n",
      "120 th epoch\n",
      "----------\n",
      "Q:  1 1 0 + 1 7 2\n",
      "A:  2 8 2  \n",
      "P:  2 8 2  \n",
      "T/F:  T\n",
      "----------\n",
      "Q:  9 4 + 2 4 9  \n",
      "A:  3 4 3  \n",
      "P:  3 4 3  \n",
      "T/F:  T\n",
      "140 th epoch\n",
      "----------\n",
      "Q:  3 9 2 + 6 7 0\n",
      "A:  1 0 6 2\n",
      "P:  1 6 6 2\n",
      "T/F:  F\n",
      "----------\n",
      "Q:  3 0 + 8 1 5  \n",
      "A:  8 4 5  \n",
      "P:  8 4 5  \n",
      "T/F:  T\n",
      "160 th epoch\n",
      "----------\n",
      "Q:  8 2 + 4 7 6  \n",
      "A:  5 5 8  \n",
      "P:  5 5 8  \n",
      "T/F:  T\n",
      "----------\n",
      "Q:  9 0 6 + 2 6  \n",
      "A:  9 3 2  \n",
      "P:  9 3 2  \n",
      "T/F:  T\n",
      "180 th epoch\n",
      "----------\n",
      "Q:  7 2 8 + 3 7 4\n",
      "A:  1 1 0 2\n",
      "P:  1 0 0 2\n",
      "T/F:  F\n",
      "----------\n",
      "Q:  3 8 9 + 6 5 8\n",
      "A:  1 0 4 7\n",
      "P:  1 0 4 7\n",
      "T/F:  T\n"
     ]
    }
   ],
   "source": [
    "init = tf.global_variables_initializer()\n",
    "sess = tf.Session()\n",
    "sess.run(init)\n",
    "\n",
    "n_batchs = X_train.shape[0] // batch_size\n",
    "n_validation = X_validation.shape[0]\n",
    "history = { 'val_loss': [], 'val_acc': [] }\n",
    "\n",
    "for epoch in range(n_epochs):\n",
    "    X_, Y_, = shuffle(X_train, Y_train)\n",
    "    \n",
    "    for i in range(n_batchs):\n",
    "        start = i * batch_size\n",
    "        end = start + batch_size\n",
    "        \n",
    "        sess.run(train_step, feed_dict={x: X_[start:end], \n",
    "                                                        t: Y_[start:end], \n",
    "                                                        n_batch: batch_size, \n",
    "                                                        is_training: True})\n",
    "        \n",
    "    val_loss, val_acc = sess.run([loss, acc], feed_dict={x: X_validation, \n",
    "                                                                                 t: Y_validation, \n",
    "                                                                                 n_batch: n_validation, \n",
    "                                                                                 is_training: False})\n",
    "    \n",
    "    history['val_loss'].append(val_loss)\n",
    "    history['val_acc'].append(val_acc)\n",
    "    \n",
    "    if epoch % 20 == 0:\n",
    "        print(epoch,'th epoch')\n",
    "        for i in range(2):\n",
    "            index = np.random.randint(0, n_validation)\n",
    "            question = X_validation[np.array([index])]\n",
    "            answer = Y_validation[np.array([index])]\n",
    "            prediction = sess.run(y, feed_dict={x: question, \n",
    "                                                               #t: answer,\n",
    "                                                               n_batch: 1,\n",
    "                                                               is_training: False })\n",
    "        \n",
    "            question = question.argmax(axis=-1)\n",
    "            answer = answer.argmax(axis=-1)\n",
    "            prediction = np.argmax(prediction, -1)\n",
    "        \n",
    "            q = ' '.join(indices_char[i] for i in question[0])\n",
    "            a = ' '.join(indices_char[i] for i in answer[0])\n",
    "            p = ' '.join(indices_char[i] for i in prediction[0])\n",
    "        \n",
    "            print('-'*10)\n",
    "            print('Q: ', q)\n",
    "            print('A: ', a)\n",
    "            print('P: ', p)\n",
    "            print('T/F: ', end=' ')\n",
    "        \n",
    "            if a == p:\n",
    "                print('T')\n",
    "            else:\n",
    "                print('F')"
   ]
  },
  {
   "cell_type": "markdown",
   "metadata": {},
   "source": [
    "# Loss & Accuracy"
   ]
  },
  {
   "cell_type": "code",
   "execution_count": 13,
   "metadata": {},
   "outputs": [
    {
     "data": {
      "image/png": "[encoded data removed]",
      "text/plain": [
       "<Figure size 432x288 with 2 Axes>"
      ]
     },
     "metadata": {},
     "output_type": "display_data"
    }
   ],
   "source": [
    "fig = plt.figure()\n",
    "\n",
    "ax_acc = fig.add_subplot(111)\n",
    "ax_acc.plot(range(n_epochs), history['val_acc'],\n",
    "                   label='acc', color='black')\n",
    "\n",
    "ax_loss = ax_acc.twinx()\n",
    "ax_loss.plot(range(n_epochs), history['val_loss'],\n",
    "                    label='loss', color='gray')\n",
    "\n",
    "plt.xlabel('epoch')\n",
    "plt.show()"
   ]
  },
  {
   "cell_type": "code",
   "execution_count": null,
   "metadata": {},
   "outputs": [],
   "source": []
  }
 ],
 "metadata": {
  "kernelspec": {
   "display_name": "Python [conda env:miniconda3]",
   "language": "python",
   "name": "conda-env-miniconda3-py"
  },
  "language_info": {
   "codemirror_mode": {
    "name": "ipython",
    "version": 3
   },
   "file_extension": ".py",
   "mimetype": "text/x-python",
   "name": "python",
   "nbconvert_exporter": "python",
   "pygments_lexer": "ipython3",
   "version": "3.6.5"
  }
 },
 "nbformat": 4,
 "nbformat_minor": 2
}

{
 "cells": [
  {
   "cell_type": "code",
   "execution_count": 1,
   "metadata": {},
   "outputs": [],
   "source": [
    "import numpy as np\n",
    "\n",
    "import tensorflow as tf\n",
    "from sklearn.utils import shuffle\n",
    "from tensorflow.keras.models import Sequential\n",
    "from tensorflow.keras.layers import Dense, Activation\n",
    "from tensorflow.keras.optimizers import SGD"
   ]
  },
  {
   "cell_type": "code",
   "execution_count": 3,
   "metadata": {
    "scrolled": false
   },
   "outputs": [
    {
     "name": "stdout",
     "output_type": "stream",
     "text": [
      "Extracting MNIST_dat/train-images-idx3-ubyte.gz\n",
      "Extracting MNIST_dat/train-labels-idx1-ubyte.gz\n",
      "Extracting MNIST_dat/t10k-images-idx3-ubyte.gz\n",
      "Extracting MNIST_dat/t10k-labels-idx1-ubyte.gz\n"
     ]
    }
   ],
   "source": [
    "from tensorflow.examples.tutorials.mnist import input_data\n",
    "mnist = input_data.read_data_sets(\"MNIST_dat/\", one_hot = True)"
   ]
  },
  {
   "cell_type": "code",
   "execution_count": 5,
   "metadata": {},
   "outputs": [],
   "source": [
    "## Define lrelu\n",
    "\n",
    "def lrelu(x, alpha = 0.01):\n",
    "         return tf.maximum(alpha*x,x)\n",
    "\n",
    "## Data selection (10000 sets of data) X used\n",
    "n = len(mnist)\n",
    "indices = np.random.permutation(range(n))[:10000]\n",
    "\n",
    "## Model \n",
    "x = tf.placeholder(tf.float32, [None, 784], name = \"XX\")\n",
    "\n",
    "# Hidden 1\n",
    "w0 = tf.Variable(tf.truncated_normal([784,200], stddev = 0.01))\n",
    "b0 = tf.Variable(tf.zeros([200]))\n",
    "h0 = lrelu(tf.matmul(x,w0)+b0)\n",
    "\n",
    "# Hidden 2\n",
    "w1 = tf.Variable(tf.truncated_normal([200,200], stddev = 0.01))\n",
    "b1 = tf.Variable(tf.zeros([200]))\n",
    "h1 = lrelu(tf.matmul(h0,w1)+b1)\n",
    "\n",
    "# Hidden 3\n",
    "w2 = tf.Variable(tf.truncated_normal([200,10], stddev = 0.01))\n",
    "b2 = tf.Variable(tf.zeros([10]))\n",
    "h2 = tf.nn.softmax(tf.matmul(h1,w2)+b2)\n",
    "\n",
    "## Cross entropy\n",
    "Y = tf.placeholder(tf.float32, [None, 10], name = \"YY\")\n",
    "cross_entropy = tf.reduce_mean(-tf.reduce_sum(Y*tf.log(h2), reduction_indices = [1]))\n",
    "train_step = tf.train.GradientDescentOptimizer(0.5).minimize(cross_entropy)"
   ]
  },
  {
   "cell_type": "code",
   "execution_count": 7,
   "metadata": {},
   "outputs": [],
   "source": [
    "# Model Learning\n",
    "init = tf.global_variables_initializer()\n",
    "sess = tf.Session()\n",
    "sess.run(init)\n",
    "\n",
    "for i in range(1000):\n",
    "    batch_x, batch_y = mnist.train.next_batch(100)\n",
    "    sess.run(train_step, feed_dict = {\n",
    "        x : batch_x,\n",
    "        Y: batch_y\n",
    "    })"
   ]
  },
  {
   "cell_type": "code",
   "execution_count": 9,
   "metadata": {},
   "outputs": [
    {
     "name": "stdout",
     "output_type": "stream",
     "text": [
      "0.9657\n"
     ]
    }
   ],
   "source": [
    "## Model accuracy check\n",
    "correct_prediction = tf.equal(tf.argmax(h2,1), tf.argmax(Y,1))\n",
    "accuracy = tf.reduce_mean(tf.cast(correct_prediction, tf.float32))\n",
    "\n",
    "print(sess.run(accuracy, feed_dict= {\n",
    "    x : mnist.test.images,\n",
    "    Y : mnist.test.labels\n",
    "}))"
   ]
  }
 ],
 "metadata": {
  "kernelspec": {
   "display_name": "Python 3",
   "language": "python",
   "name": "python3"
  },
  "language_info": {
   "codemirror_mode": {
    "name": "ipython",
    "version": 3
   },
   "file_extension": ".py",
   "mimetype": "text/x-python",
   "name": "python",
   "nbconvert_exporter": "python",
   "pygments_lexer": "ipython3",
   "version": "3.6.7"
  }
 },
 "nbformat": 4,
 "nbformat_minor": 2
}

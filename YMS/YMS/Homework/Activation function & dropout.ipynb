{
 "cells": [
  {
   "cell_type": "code",
   "execution_count": 33,
   "metadata": {},
   "outputs": [],
   "source": [
    "import numpy as np\n",
    "\n",
    "import tensorflow as tf\n",
    "from sklearn.utils import shuffle\n",
    "from tensorflow.keras.models import Sequential\n",
    "from tensorflow.keras.layers import Dense, Activation\n",
    "from tensorflow.keras.optimizers import SGD"
   ]
  },
  {
   "cell_type": "code",
   "execution_count": 34,
   "metadata": {
    "scrolled": false
   },
   "outputs": [
    {
     "name": "stdout",
     "output_type": "stream",
     "text": [
      "Extracting MNIST_dat/train-images-idx3-ubyte.gz\n",
      "Extracting MNIST_dat/train-labels-idx1-ubyte.gz\n",
      "Extracting MNIST_dat/t10k-images-idx3-ubyte.gz\n",
      "Extracting MNIST_dat/t10k-labels-idx1-ubyte.gz\n"
     ]
    }
   ],
   "source": [
    "from tensorflow.examples.tutorials.mnist import input_data\n",
    "mnist = input_data.read_data_sets(\"MNIST_dat/\", one_hot = True)"
   ]
  },
  {
   "cell_type": "code",
   "execution_count": 52,
   "metadata": {},
   "outputs": [],
   "source": [
    "## Define lrelu\n",
    "\n",
    "def lrelu(x, alpha = 0.01):\n",
    "         return tf.maximum(alpha*x,x)\n",
    "\n",
    "## Data selection (10000 sets of data) X used\n",
    "n = len(mnist)\n",
    "indices = np.random.permutation(range(n))[:10000]\n",
    "\n",
    "## Model\n",
    "x = tf.placeholder(tf.float32, [None, 784], name = \"XX\")\n",
    "\n",
    "# Hidden 1\n",
    "w0 = tf.Variable(tf.zeros([784,784]))\n",
    "b0 = tf.Variable(tf.zeros([784]))\n",
    "h0 = tf.nn.relu(tf.matmul(x,w)+b)\n",
    "\n",
    "# Hidden 2\n",
    "ww = tf.Variable(tf.zeros([784,784]))\n",
    "bb = tf.Variable(tf.zeros([784]))\n",
    "g = tf.nn.relu(tf.matmul(x,ww)+bb)\n",
    "\n",
    "# Hidden 3\n",
    "v = tf.Variable(tf.zeros([784,10]))\n",
    "c = tf.Variable(tf.zeros([10]))\n",
    "y = tf.nn.softmax(tf.matmul(g,v)+c)\n",
    "\n",
    "## Cross entropy\n",
    "Y = tf.placeholder(tf.float32, [None, 10], name = \"YY\")\n",
    "cross_entropy = tf.reduce_mean(-tf.reduce_sum(Y*tf.log(y), reduction_indices = [1]))\n",
    "train_step = tf.train.GradientDescentOptimizer(0.5).minimize(cross_entropy)"
   ]
  },
  {
   "cell_type": "code",
   "execution_count": 47,
   "metadata": {},
   "outputs": [],
   "source": [
    "# Model Learning\n",
    "init = tf.initialize_all_variables()\n",
    "sess = tf.Session()\n",
    "sess.run(init)\n",
    "\n",
    "for i in range(1000):\n",
    "    batch_x, batch_y = mnist.train.next_batch(100)\n",
    "    sess.run(train_step, feed_dict = {\n",
    "        x : batch_x,\n",
    "        Y: batch_y\n",
    "    })"
   ]
  },
  {
   "cell_type": "code",
   "execution_count": 48,
   "metadata": {},
   "outputs": [
    {
     "name": "stdout",
     "output_type": "stream",
     "text": [
      "0.1135\n"
     ]
    }
   ],
   "source": [
    "## Model accuracy check\n",
    "correct_prediction = tf.equal(tf.argmax(y,1), tf.argmax(Y,1))\n",
    "accuracy = tf.reduce_mean(tf.cast(correct_prediction, tf.float32))\n",
    "\n",
    "print(sess.run(accuracy, feed_dict= {\n",
    "    x : mnist.test.images,\n",
    "    Y : mnist.test.labels\n",
    "}))"
   ]
  }
 ],
 "metadata": {
  "kernelspec": {
   "display_name": "Python 3",
   "language": "python",
   "name": "python3"
  },
  "language_info": {
   "codemirror_mode": {
    "name": "ipython",
    "version": 3
   },
   "file_extension": ".py",
   "mimetype": "text/x-python",
   "name": "python",
   "nbconvert_exporter": "python",
   "pygments_lexer": "ipython3",
   "version": "3.6.7"
  }
 },
 "nbformat": 4,
 "nbformat_minor": 2
}

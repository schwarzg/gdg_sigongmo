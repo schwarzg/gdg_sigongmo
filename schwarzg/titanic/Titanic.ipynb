{
  "nbformat": 4,
  "nbformat_minor": 0,
  "metadata": {
    "colab": {
      "name": "Titanic.ipynb",
      "version": "0.3.2",
      "provenance": [],
      "collapsed_sections": [],
      "include_colab_link": true
    },
    "kernelspec": {
      "name": "python2",
      "display_name": "Python 2"
    }
  },
  "cells": [
    {
      "cell_type": "markdown",
      "metadata": {
        "id": "view-in-github",
        "colab_type": "text"
      },
      "source": [
        "<a href=\"https://colab.research.google.com/github/schwarzg/gdg_sigongmo/blob/schwarzg/schwarzg/titanic/Titanic.ipynb\" target=\"_parent\"><img src=\"https://colab.research.google.com/assets/colab-badge.svg\" alt=\"Open In Colab\"/></a>"
      ]
    },
    {
      "metadata": {
        "id": "FnFSr_5Rd04Z",
        "colab_type": "text"
      },
      "cell_type": "markdown",
      "source": [
        "#Kaggle Titanic Competition\n",
        "\n",
        "https://www.kaggle.com/c/2019-1st-ml-month-with-kakr/\n",
        "\n",
        "구글 드라이브에  *train.csv, test.csv* 를 업로드해 두셔야 정상작동합니다.\n",
        "\n",
        "저는 데이터 정리를 위해 pandas를 사용하고 계산을 위해 numpy를 사용합니다.\n",
        "\n",
        "Tensorflow와 Keras등 다른 프레임워크를 이용한 구현은 여러분께 맡기겠습니다.\n",
        "\n",
        "**화이팅**\n",
        "\n",
        "필요한 패키지를 준비합시다."
      ]
    },
    {
      "metadata": {
        "id": "zhEpKk7mN7j9",
        "colab_type": "code",
        "outputId": "c01dee10-8512-495b-c771-613a21a44adf",
        "colab": {
          "base_uri": "https://localhost:8080/",
          "height": 34
        }
      },
      "cell_type": "code",
      "source": [
        "from google.colab import drive\n",
        "drive.mount('/content/gdrive')\n",
        "\n",
        "import numpy as np\n",
        "import pandas as pd\n",
        "import matplotlib.pyplot as plt"
      ],
      "execution_count": 0,
      "outputs": [
        {
          "output_type": "stream",
          "text": [
            "Drive already mounted at /content/gdrive; to attempt to forcibly remount, call drive.mount(\"/content/gdrive\", force_remount=True).\n"
          ],
          "name": "stdout"
        }
      ]
    },
    {
      "metadata": {
        "id": "a8NPGzMTfYhL",
        "colab_type": "text"
      },
      "cell_type": "markdown",
      "source": [
        "우선 트레이닝을 위한 파일을 읽습니다.\n",
        "\n",
        "데이터는 csv(comma seperated value)형식으로 저장되어 있습니다.\n",
        "\n",
        "pandas는 아주 깔끔하게 데이터를 읽어줍니다.\n",
        "\n",
        "Titanic Competition의 데이터파일은 12종류의 데이터를 제공합니다.\n",
        "\n",
        "케글 코리아의 설명에 의하면 각 데이터열은 다음 정보를 알려준다고 합니다.\n",
        "\n",
        "    survival - 생존유무, target 값. (0 = 사망, 1 = 생존)\n",
        "    pclass - 티켓 클래스. (1 = 1st, 2 = 2nd, 3 = 3rd)\n",
        "    sex - 성별\n",
        "    Age - 나이(세)\n",
        "    sibsp - 함께 탑승한 형제자매, 배우자 수 총합\n",
        "    parch - 함께 탑승한 부모, 자녀 수 총합\n",
        "    ticket - 티켓 넘버\n",
        "    fare - 탑승 요금\n",
        "    cabin - 객실 넘버\n",
        "    embarked - 탑승 항구"
      ]
    },
    {
      "metadata": {
        "id": "g4XrKF24OxFL",
        "colab_type": "code",
        "outputId": "bc9f94bf-1aee-4158-fdb7-ea40fd995b0e",
        "colab": {
          "base_uri": "https://localhost:8080/",
          "height": 634
        }
      },
      "cell_type": "code",
      "source": [
        "#Process input data and answer\n",
        "df_tr=pd.read_csv(\"/content/gdrive/My Drive/train.csv\")\n",
        "\n",
        "print df_tr.head()\n",
        "print df_tr.isnull().any()"
      ],
      "execution_count": 37,
      "outputs": [
        {
          "output_type": "stream",
          "text": [
            "   PassengerId  Survived  Pclass  \\\n",
            "0            1         0       3   \n",
            "1            2         1       1   \n",
            "2            3         1       3   \n",
            "3            4         1       1   \n",
            "4            5         0       3   \n",
            "\n",
            "                                                Name     Sex   Age  SibSp  \\\n",
            "0                            Braund, Mr. Owen Harris    male  22.0      1   \n",
            "1  Cumings, Mrs. John Bradley (Florence Briggs Th...  female  38.0      1   \n",
            "2                             Heikkinen, Miss. Laina  female  26.0      0   \n",
            "3       Futrelle, Mrs. Jacques Heath (Lily May Peel)  female  35.0      1   \n",
            "4                           Allen, Mr. William Henry    male  35.0      0   \n",
            "\n",
            "   Parch            Ticket     Fare Cabin Embarked  \n",
            "0      0         A/5 21171   7.2500   NaN        S  \n",
            "1      0          PC 17599  71.2833   C85        C  \n",
            "2      0  STON/O2. 3101282   7.9250   NaN        S  \n",
            "3      0            113803  53.1000  C123        S  \n",
            "4      0            373450   8.0500   NaN        S  \n",
            "PassengerId    False\n",
            "Survived       False\n",
            "Pclass         False\n",
            "Name           False\n",
            "Sex            False\n",
            "Age             True\n",
            "SibSp          False\n",
            "Parch          False\n",
            "Ticket         False\n",
            "Fare           False\n",
            "Cabin           True\n",
            "Embarked        True\n",
            "dtype: bool\n"
          ],
          "name": "stdout"
        }
      ]
    },
    {
      "metadata": {
        "id": "56X9PLGfgKt6",
        "colab_type": "text"
      },
      "cell_type": "markdown",
      "source": [
        "\n",
        "\n",
        "이 중 직접적으로 관련이 있을 것 같은 데이터들 추출하겠습니다.\n",
        "\n",
        "전 Pclass, Sex, Age, SibSp , Parch, Fare, Embarked 7개의 데이터를 이용하겠습니다.\n",
        "\n",
        "위 셀의 출력 결과를 보시면 데이터 중간중간에 NaN 값이 들어가 있는 것을 확인할 수 있습니다.\n",
        "\n",
        "Age, Embarked, Cargbin 데이터가 빈 곳이 있다는 말이죠. 우선은 이 부분을 무시하도록 dropna 함수를 이용해 제거하고 넘어가겠습니다.\n",
        "\n",
        "Sex와 Embarked 데이터는 문자형식으로 되어있어 네트워크에 바로 넣어주기 곤란한 형태입니다. 적당한 숫자로 바꿔줍니다."
      ]
    },
    {
      "metadata": {
        "id": "44Br2uA9Ox01",
        "colab_type": "code",
        "outputId": "9fae7b64-2b5c-4b74-c2d5-e6b20599949a",
        "colab": {
          "base_uri": "https://localhost:8080/",
          "height": 129
        }
      },
      "cell_type": "code",
      "source": [
        "df_trs=df_tr[[\"Survived\",\"Pclass\",\"Sex\",\"Age\",\"SibSp\",\"Parch\",\"Fare\",\"Embarked\"]]\n",
        "df_trs=df_trs.dropna(how=\"any\")\n",
        "df_trs=df_trs.replace({\"male\":0,\"female\":1,\"Q\":0,\"S\":1,\"C\":2})\n",
        "print df_trs.head()\n",
        "\n",
        "X_t=df_trs[[\"Pclass\",\"Sex\",\"Age\",\"SibSp\",\"Parch\",\"Fare\",\"Embarked\"]].as_matrix()\n",
        "Y_t=df_trs[[\"Survived\"]].as_matrix()\n",
        "ninp=len(X_t[0])\n",
        "ndat=len(Y_t)"
      ],
      "execution_count": 39,
      "outputs": [
        {
          "output_type": "stream",
          "text": [
            "   Survived  Pclass  Sex   Age  SibSp  Parch     Fare  Embarked\n",
            "0         0       3    0  22.0      1      0   7.2500         1\n",
            "1         1       1    1  38.0      1      0  71.2833         2\n",
            "2         1       3    1  26.0      0      0   7.9250         1\n",
            "3         1       1    1  35.0      1      0  53.1000         1\n",
            "4         0       3    0  35.0      0      0   8.0500         1\n"
          ],
          "name": "stdout"
        }
      ]
    },
    {
      "metadata": {
        "id": "m43gGD_HiOv0",
        "colab_type": "text"
      },
      "cell_type": "markdown",
      "source": [
        "필요한 학습 데이터가 준비되었고, 적당한 모델을 세울 차례입니다.\n",
        "\n",
        "전 노드 4개짜리 1개의 은닉층을 정의하고, 출력층은 1개의 노드로 만들었습니다. Weight matrix는 2개가 필요하지요.\n",
        "\n",
        "은닉층의 활성함수는 시그모이드 함수로 사용하고 결과를 보겠습니다.\n",
        "\n",
        "오차함수로는 교차 엔트로피를 정의하겠습니다."
      ]
    },
    {
      "metadata": {
        "id": "hg-SaGcBPfRP",
        "colab_type": "code",
        "colab": {}
      },
      "cell_type": "code",
      "source": [
        "#Weight matrix\n",
        "W1=np.random.normal(size=(ninp+1,ninp/2)) #W1[0] is for bias\n",
        "W2=np.random.normal(size=(ninp/2+1,1)) #W2[0] is for bias\n",
        "\n",
        "#activation aucntion\n",
        "def sig(z):\n",
        "\treturn 1.0/(1.0+np.exp(-z))\n",
        "\t\n",
        "def sigd(z):\n",
        "\tsigarr=sig(z)\n",
        "\treturn np.multiply(sigarr,(1.0-sigarr))\n",
        "\n",
        "#feedfoward function \n",
        "def feedfoward(X,W,B):\n",
        "\treturn np.dot(X,W)+B\n",
        "\n",
        "def cost(Y,Yh):\n",
        "\tdelt=-np.multiply(Yh,np.log(Y+1e-8))-np.multiply(1.0-Yh,np.log(1.0-Y+1e-8))\n",
        "\treturn np.mean(delt)\n",
        "\n",
        "def get_gradient(delta,deriv,X):\n",
        "\tD=np.multiply(delta,deriv)\n",
        "\tG=np.dot(X.transpose(),D)\n",
        "\treturn G/float(len(delta))\n",
        "\n"
      ],
      "execution_count": 0,
      "outputs": []
    },
    {
      "metadata": {
        "id": "TEy6Kkepi5_p",
        "colab_type": "text"
      },
      "cell_type": "markdown",
      "source": [
        "학습을 시작합시다!\n",
        "\n",
        "학습률은 0.01로 두고, 데이터를 100000번 학습시켜 결과를 보겠습니다."
      ]
    },
    {
      "metadata": {
        "id": "E6MFbS60QXxu",
        "colab_type": "code",
        "outputId": "b99cbd7c-fa5c-4c25-a4e0-5ceab463c1e0",
        "colab": {
          "base_uri": "https://localhost:8080/",
          "height": 585
        }
      },
      "cell_type": "code",
      "source": [
        "#hyper parameters\n",
        "lr=0.01\t#learningrate\n",
        "epoch_num=100000\n",
        "\n",
        "acc=np.array([])\n",
        "cst=np.array([])\n",
        "print \"Epoch, Cost, Acc\"\n",
        "for i in range(epoch_num+1):\n",
        "\n",
        "  #feedfoward\n",
        "  Xin=np.concatenate((np.ones((ndat,1)),X_t),axis=1)\n",
        "  z1=feedfoward(Xin,W1,0)\n",
        "  H=sig(z1)\n",
        "  Hin=np.concatenate((np.ones((ndat,1)),H),axis=1)\n",
        "  z2=feedfoward(Hin,W2,0)\n",
        "  Y=sig(z2)\n",
        "\t\n",
        "  corr=np.equal(np.greater(Y,0.5),Y_t).astype(int)\n",
        "  acc=np.append(acc,np.mean(corr))\n",
        "  cst=np.append(cst,cost(Y,Y_t))\n",
        "\n",
        "  if i%10000 is 0 :\n",
        "    print i, cst[i], acc[i]\n",
        "  if i is epoch_num :\n",
        "    break\n",
        "  \n",
        "\t#back propagation, gradient calculation\n",
        "  deltao=(Y-Y_t).astype(float)/((Y+1e-8)*(1.0-Y+1e-8))\n",
        "  gW2=get_gradient(deltao,sigd(z2),Hin)\n",
        "\n",
        "  deltah=np.dot(np.multiply(deltao,sigd(z2)),W2[1:,:].transpose())\n",
        "\t\n",
        "  gW1=get_gradient(deltah,sigd(z1),Xin)\n",
        "\t\n",
        "  #update\n",
        "  W1=W1-lr*gW1\n",
        "  W2=W2-lr*gW2\n",
        "\n",
        "plt.xlabel(\"epoch\") \n",
        "plt.ylabel(\"Training accuracy\")\n",
        "plt.plot(np.arange(epoch_num+1),acc)\n",
        "plt.show()"
      ],
      "execution_count": 29,
      "outputs": [
        {
          "output_type": "stream",
          "text": [
            "Epoch, Cost, Acc\n",
            "0 0.6658887318837053 0.6161616161616161\n",
            "10000 0.5376218999491768 0.7373737373737373\n",
            "20000 0.45217270232482254 0.7957351290684624\n",
            "30000 0.4475195140477129 0.792368125701459\n",
            "40000 0.4324604631804837 0.8092031425364759\n",
            "50000 0.4217866343702752 0.8092031425364759\n",
            "60000 0.4178353925669154 0.8181818181818182\n",
            "70000 0.4136801907195262 0.8204264870931538\n",
            "80000 0.40749700783851733 0.8316498316498316\n",
            "90000 0.40450407362239427 0.8316498316498316\n",
            "100000 0.4032141252016358 0.8316498316498316\n"
          ],
          "name": "stdout"
        },
        {
          "output_type": "display_data",
          "data": {
            "image/png": "[encoded data removed]",
            "text/plain": [
              "<Figure size 576x396 with 1 Axes>"
            ]
          },
          "metadata": {
            "tags": []
          }
        }
      ]
    },
    {
      "metadata": {
        "id": "cZig2tDOlbs1",
        "colab_type": "text"
      },
      "cell_type": "markdown",
      "source": [
        "학습이 그럭저럭 된 것 같지만, 잘라내버린 값들이 신경쓰입니다.\n",
        "\n",
        "이번에는 NaN값을 통계적으로 적당한 값으로 채워봅시다\n",
        "\n",
        "저는 Kaggle-KR의 튜토리얼을 따라 채워보도록 하겠습니다.\n",
        "\n",
        "https://kaggle-kr.tistory.com/category/Kaggle%20%ED%8A%9C%ED%86%A0%EB%A6%AC%EC%96%BC/Titanic%20%ED%8A%9C%ED%86%A0%EB%A6%AC%EC%96%BC"
      ]
    },
    {
      "metadata": {
        "id": "ZLU3cQDRxwAq",
        "colab_type": "code",
        "colab": {
          "base_uri": "https://localhost:8080/",
          "height": 729
        },
        "outputId": "ed67a95d-8320-4e35-898b-d7f8c82bc763"
      },
      "cell_type": "code",
      "source": [
        "df_tr['Initial']= df_tr.Name.str.extract('([A-Za-z]+)\\.') #lets extract the Salutations\n",
        "print df_tr.head()\n",
        "\n",
        "df_tr['Initial'].replace(['Mlle','Mme','Ms','Dr','Major','Lady','Countess','Jonkheer','Col','Rev','Capt','Sir','Don', 'Dona'],\n",
        "                        ['Miss','Miss','Miss','Mr','Mr','Mrs','Mrs','Other','Other','Other','Mr','Mr','Mr', 'Mr'],inplace=True)\n",
        "\n",
        "df_tr.loc[(df_tr.Age.isnull())&(df_tr.Initial=='Mr'),'Age'] = 33\n",
        "df_tr.loc[(df_tr.Age.isnull())&(df_tr.Initial=='Mrs'),'Age'] = 36\n",
        "df_tr.loc[(df_tr.Age.isnull())&(df_tr.Initial=='Master'),'Age'] = 5\n",
        "df_tr.loc[(df_tr.Age.isnull())&(df_tr.Initial=='Miss'),'Age'] = 22\n",
        "df_tr.loc[(df_tr.Age.isnull())&(df_tr.Initial=='Other'),'Age'] = 46\n",
        "\n",
        "df_tr['Embarked'].fillna('S', inplace=True)\n",
        "\n",
        "df_trs=df_tr[[\"Survived\",\"Pclass\",\"Sex\",\"Age\",\"SibSp\",\"Parch\",\"Fare\",\"Embarked\"]]\n",
        "df_trs=df_trs.replace({\"male\":0,\"female\":1,\"Q\":0,\"S\":1,\"C\":2})\n",
        "print df_trs.head()\n",
        "print df_trs.isnull().any()"
      ],
      "execution_count": 67,
      "outputs": [
        {
          "output_type": "stream",
          "text": [
            "   PassengerId  Survived  Pclass  \\\n",
            "0            1         0       3   \n",
            "1            2         1       1   \n",
            "2            3         1       3   \n",
            "3            4         1       1   \n",
            "4            5         0       3   \n",
            "\n",
            "                                                Name     Sex   Age  SibSp  \\\n",
            "0                            Braund, Mr. Owen Harris    male  22.0      1   \n",
            "1  Cumings, Mrs. John Bradley (Florence Briggs Th...  female  38.0      1   \n",
            "2                             Heikkinen, Miss. Laina  female  26.0      0   \n",
            "3       Futrelle, Mrs. Jacques Heath (Lily May Peel)  female  35.0      1   \n",
            "4                           Allen, Mr. William Henry    male  35.0      0   \n",
            "\n",
            "   Parch            Ticket     Fare Cabin Embarked Initial  \n",
            "0      0         A/5 21171   7.2500   NaN        S      Mr  \n",
            "1      0          PC 17599  71.2833   C85        C     Mrs  \n",
            "2      0  STON/O2. 3101282   7.9250   NaN        S    Miss  \n",
            "3      0            113803  53.1000  C123        S     Mrs  \n",
            "4      0            373450   8.0500   NaN        S      Mr  \n",
            "   Survived  Pclass  Sex   Age  SibSp  Parch     Fare  Embarked\n",
            "0         0       3    0  22.0      1      0   7.2500         1\n",
            "1         1       1    1  38.0      1      0  71.2833         2\n",
            "2         1       3    1  26.0      0      0   7.9250         1\n",
            "3         1       1    1  35.0      1      0  53.1000         1\n",
            "4         0       3    0  35.0      0      0   8.0500         1\n",
            "Survived    False\n",
            "Pclass      False\n",
            "Sex         False\n",
            "Age         False\n",
            "SibSp       False\n",
            "Parch       False\n",
            "Fare        False\n",
            "Embarked    False\n",
            "dtype: bool\n"
          ],
          "name": "stdout"
        },
        {
          "output_type": "stream",
          "text": [
            "/usr/local/lib/python2.7/dist-packages/ipykernel_launcher.py:1: FutureWarning: currently extract(expand=None) means expand=False (return Index/Series/DataFrame) but in a future version of pandas this will be changed to expand=True (return DataFrame)\n",
            "  \"\"\"Entry point for launching an IPython kernel.\n"
          ],
          "name": "stderr"
        }
      ]
    },
    {
      "metadata": {
        "id": "VYXbk8dCxyi6",
        "colab_type": "text"
      },
      "cell_type": "markdown",
      "source": [
        "더 이상 데이터에 NaN값이 없는 것을 확인했으니, 다시 학습을 시작해봅시다."
      ]
    },
    {
      "metadata": {
        "id": "8-Q0bHGwmoyw",
        "colab_type": "code",
        "outputId": "3fc3f507-abd5-4830-c0e5-be8bd3ea58cb",
        "colab": {
          "base_uri": "https://localhost:8080/",
          "height": 585
        }
      },
      "cell_type": "code",
      "source": [
        "\n",
        "X_t=df_trs[[\"Pclass\",\"Sex\",\"Age\",\"SibSp\",\"Parch\",\"Fare\",\"Embarked\"]].as_matrix()\n",
        "Y_t=df_trs[[\"Survived\"]].as_matrix()\n",
        "ninp=len(X_t[0])\n",
        "ndat=len(Y_t)\n",
        "\n",
        "#Weight matrix\n",
        "W1=np.random.normal(size=(ninp+1,ninp/2)) #W1[0] is for bias\n",
        "W2=np.random.normal(size=(ninp/2+1,1)) #W2[0] is for bias\n",
        "\n",
        "#hyper parameters\n",
        "lr=0.01\t#learningrate\n",
        "epoch_num=100000\n",
        "\n",
        "acc=np.array([])\n",
        "cst=np.array([])\n",
        "print \"Epoch, Cost, Acc\"\n",
        "for i in range(epoch_num+1):\n",
        "\n",
        "  #feedfoward\n",
        "  Xin=np.concatenate((np.ones((ndat,1)),X_t),axis=1)\n",
        "  z1=feedfoward(Xin,W1,0)\n",
        "  H=sig(z1)\n",
        "  Hin=np.concatenate((np.ones((ndat,1)),H),axis=1)\n",
        "  z2=feedfoward(Hin,W2,0)\n",
        "  Y=sig(z2)\n",
        "\t\n",
        "  corr=np.equal(np.greater(Y,0.5),Y_t).astype(int)\n",
        "  acc=np.append(acc,np.mean(corr))\n",
        "  cst=np.append(cst,cost(Y,Y_t))\n",
        "\n",
        "  if i%10000 is 0 :\n",
        "    print i, cst[i], acc[i]\n",
        "    #print Y\n",
        "  if i is epoch_num :\n",
        "    break\n",
        "  \n",
        "\t#back propagation, gradient calculation\n",
        "  deltao=(Y-Y_t).astype(float)/((Y+1e-8)*(1.0-Y+1e-8))\n",
        "  gW2=get_gradient(deltao,sigd(z2),Hin)\n",
        "\n",
        "  deltah=np.dot(np.multiply(deltao,sigd(z2)),W2[1:,:].transpose())\n",
        "\t\n",
        "  gW1=get_gradient(deltah,sigd(z1),Xin)\n",
        "\t\n",
        "  #update\n",
        "  W1=W1-lr*gW1\n",
        "  W2=W2-lr*gW2\n",
        "\n",
        "plt.xlabel(\"epoch\") \n",
        "plt.ylabel(\"Training accuracy\")\n",
        "plt.plot(np.arange(epoch_num+1),acc)\n",
        "plt.show()"
      ],
      "execution_count": 73,
      "outputs": [
        {
          "output_type": "stream",
          "text": [
            "Epoch, Cost, Acc\n",
            "0 0.9051848593782924 0.3838383838383838\n",
            "10000 0.48091326708737203 0.7878787878787878\n",
            "20000 0.4472240679340607 0.8080808080808081\n",
            "30000 0.4369178441764605 0.8092031425364759\n",
            "40000 0.42914692863959875 0.8125701459034792\n",
            "50000 0.4284647107457653 0.8125701459034792\n",
            "60000 0.4280275079297465 0.813692480359147\n",
            "70000 0.4277357366712092 0.813692480359147\n",
            "80000 0.4276527339391587 0.813692480359147\n",
            "90000 0.42677773306684785 0.8148148148148148\n",
            "100000 0.42749810786033043 0.813692480359147\n"
          ],
          "name": "stdout"
        },
        {
          "output_type": "display_data",
          "data": {
            "image/png": "[encoded data removed]",
            "text/plain": [
              "<Figure size 576x396 with 1 Axes>"
            ]
          },
          "metadata": {
            "tags": []
          }
        }
      ]
    },
    {
      "metadata": {
        "id": "KrNemu3sohD4",
        "colab_type": "text"
      },
      "cell_type": "markdown",
      "source": [
        "학습이 적당히 된 것 같네요. 그럼 이 분류기로 Competition에 제출할 파일을 만들어 보겠습니다.\n",
        "\n",
        "우선 테스트 데이터가 멀쩡한지 확인해봅시다.\n",
        "\n"
      ]
    },
    {
      "metadata": {
        "id": "GVnLLXQS1Ndd",
        "colab_type": "code",
        "colab": {
          "base_uri": "https://localhost:8080/",
          "height": 241
        },
        "outputId": "f4bcd218-9d67-4ad2-eb32-57b193cf3eb6"
      },
      "cell_type": "code",
      "source": [
        "df_te=pd.read_csv(\"/content/gdrive/My Drive/test.csv\")\n",
        "print df_te.isnull().any()"
      ],
      "execution_count": 85,
      "outputs": [
        {
          "output_type": "stream",
          "text": [
            "PassengerId    False\n",
            "Pclass         False\n",
            "Name           False\n",
            "Sex            False\n",
            "Age             True\n",
            "SibSp          False\n",
            "Parch          False\n",
            "Ticket         False\n",
            "Fare            True\n",
            "Cabin           True\n",
            "Embarked       False\n",
            "dtype: bool\n"
          ],
          "name": "stdout"
        }
      ]
    },
    {
      "metadata": {
        "id": "pxzKk2dE1sv-",
        "colab_type": "text"
      },
      "cell_type": "markdown",
      "source": [
        "맙소사. 테스트 데이터엔 무려 Fare 정보가 누락된 부분이 있군요.\n",
        "\n",
        "편의를 위해 누락된 부분은 운임의 평균값으로 채우겠습니다.\n",
        "\n",
        "이와 더불어 똑같이 누락된 나이 정보도 채우겠습니다."
      ]
    },
    {
      "metadata": {
        "id": "uXLLVZfc2IfV",
        "colab_type": "code",
        "colab": {
          "base_uri": "https://localhost:8080/",
          "height": 318
        },
        "outputId": "5ee41e23-0f0a-472f-8923-a2a24d9f16cc"
      },
      "cell_type": "code",
      "source": [
        "df_te['Initial']= df_te.Name.str.extract('([A-Za-z]+)\\.') #lets extract the Salutations\n",
        "\n",
        "df_te['Initial'].replace(['Mlle','Mme','Ms','Dr','Major','Lady','Countess','Jonkheer','Col','Rev','Capt','Sir','Don', 'Dona'],\n",
        "                        ['Miss','Miss','Miss','Mr','Mr','Mrs','Mrs','Other','Other','Other','Mr','Mr','Mr', 'Mr'],inplace=True)\n",
        "\n",
        "df_te.loc[(df_te.Age.isnull())&(df_te.Initial=='Mr'),'Age'] = 33\n",
        "df_te.loc[(df_te.Age.isnull())&(df_te.Initial=='Mrs'),'Age'] = 36\n",
        "df_te.loc[(df_te.Age.isnull())&(df_te.Initial=='Master'),'Age'] = 5\n",
        "df_te.loc[(df_te.Age.isnull())&(df_te.Initial=='Miss'),'Age'] = 22\n",
        "df_te.loc[(df_te.Age.isnull())&(df_te.Initial=='Other'),'Age'] = 46\n",
        "\n",
        "avF=df_te['Fare'].mean()\n",
        "df_te['Fare'].fillna(np.float32(avF), inplace=True)\n",
        "print df_te.isnull().any()"
      ],
      "execution_count": 86,
      "outputs": [
        {
          "output_type": "stream",
          "text": [
            "PassengerId    False\n",
            "Pclass         False\n",
            "Name           False\n",
            "Sex            False\n",
            "Age            False\n",
            "SibSp          False\n",
            "Parch          False\n",
            "Ticket         False\n",
            "Fare           False\n",
            "Cabin           True\n",
            "Embarked       False\n",
            "Initial        False\n",
            "dtype: bool\n"
          ],
          "name": "stdout"
        },
        {
          "output_type": "stream",
          "text": [
            "/usr/local/lib/python2.7/dist-packages/ipykernel_launcher.py:1: FutureWarning: currently extract(expand=None) means expand=False (return Index/Series/DataFrame) but in a future version of pandas this will be changed to expand=True (return DataFrame)\n",
            "  \"\"\"Entry point for launching an IPython kernel.\n"
          ],
          "name": "stderr"
        }
      ]
    },
    {
      "metadata": {
        "id": "g-4v0hGA2ctJ",
        "colab_type": "text"
      },
      "cell_type": "markdown",
      "source": [
        "준비가 되었으니, 이제 테스트를 시작합니다."
      ]
    },
    {
      "metadata": {
        "id": "GyeLjIBSQvBS",
        "colab_type": "code",
        "outputId": "5ad93bcd-e095-470d-e4f4-668f6afd8d2c",
        "colab": {
          "base_uri": "https://localhost:8080/",
          "height": 410
        }
      },
      "cell_type": "code",
      "source": [
        "\n",
        "df_te=df_te[[\"PassengerId\",\"Pclass\",\"Sex\",\"Age\",\"SibSp\",\"Parch\",\"Fare\",\"Embarked\"]]\n",
        "print df_te.head()\n",
        "print df_te.isnull().any()\n",
        "df_te=df_te.replace({\"male\":0,\"female\":1,\"Q\":0,\"S\":1,\"C\":2})\n",
        "id=df_te[[\"PassengerId\"]].as_matrix()\n",
        "X_v=df_te[[\"Pclass\",\"Sex\",\"Age\",\"SibSp\",\"Parch\",\"Fare\",\"Embarked\"]].as_matrix()\n",
        "\n",
        "#feedfoward\n",
        "ndat=len(X_v)\n",
        "Xin=np.concatenate((np.ones((ndat,1)),X_v),axis=1)\n",
        "z1=feedfoward(Xin,W1,0)\n",
        "H=sig(z1)\n",
        "Hin=np.concatenate((np.ones((ndat,1)),H),axis=1)\n",
        "z2=feedfoward(Hin,W2,0)\n",
        "Y_v=sig(z2)\n",
        "\n",
        "A=np.greater(Y_v,0.5).astype(int)\n",
        "sub=np.concatenate((id,A),axis=1)\n",
        "sub=pd.DataFrame(sub,columns=['PassengerId','Survived'])\n",
        "print sub.head()\n",
        "\n",
        "sub.to_csv('/content/gdrive/My Drive/submission.csv',index=False)"
      ],
      "execution_count": 87,
      "outputs": [
        {
          "output_type": "stream",
          "text": [
            "   PassengerId  Pclass     Sex   Age  SibSp  Parch     Fare Embarked\n",
            "0          892       3    male  34.5      0      0   7.8292        Q\n",
            "1          893       3  female  47.0      1      0   7.0000        S\n",
            "2          894       2    male  62.0      0      0   9.6875        Q\n",
            "3          895       3    male  27.0      0      0   8.6625        S\n",
            "4          896       3  female  22.0      1      1  12.2875        S\n",
            "PassengerId    False\n",
            "Pclass         False\n",
            "Sex            False\n",
            "Age            False\n",
            "SibSp          False\n",
            "Parch          False\n",
            "Fare           False\n",
            "Embarked       False\n",
            "dtype: bool\n",
            "   PassengerId  Survived\n",
            "0          892         0\n",
            "1          893         0\n",
            "2          894         0\n",
            "3          895         0\n",
            "4          896         0\n"
          ],
          "name": "stdout"
        }
      ]
    },
    {
      "metadata": {
        "id": "m5Xvbey57dBe",
        "colab_type": "text"
      },
      "cell_type": "markdown",
      "source": [
        "과연 제 점수는 몇 점 일까요?\n",
        "\n"
      ]
    }
  ]
}
{
  "nbformat": 4,
  "nbformat_minor": 0,
  "metadata": {
    "colab": {
      "name": "Titanic.ipynb",
      "version": "0.3.2",
      "provenance": [],
      "collapsed_sections": [],
      "include_colab_link": true
    },
    "kernelspec": {
      "name": "python2",
      "display_name": "Python 2"
    }
  },
  "cells": [
    {
      "cell_type": "markdown",
      "metadata": {
        "id": "view-in-github",
        "colab_type": "text"
      },
      "source": [
        "<a href=\"https://colab.research.google.com/github/schwarzg/gdg_sigongmo/blob/schwarzg/schwarzg/titanic/Titanic.ipynb\" target=\"_parent\"><img src=\"https://colab.research.google.com/assets/colab-badge.svg\" alt=\"Open In Colab\"/></a>"
      ]
    },
    {
      "metadata": {
        "id": "zhEpKk7mN7j9",
        "colab_type": "code",
        "colab": {
          "base_uri": "https://localhost:8080/",
          "height": 36
        },
        "outputId": "532f397f-094d-44f3-cfe8-4b9f1d5c88a9"
      },
      "cell_type": "code",
      "source": [
        "from google.colab import drive\n",
        "drive.mount('/content/gdrive')\n",
        "\n",
        "import numpy as np\n",
        "import pandas as pd\n",
        "import matplotlib.pyplot as plt"
      ],
      "execution_count": 28,
      "outputs": [
        {
          "output_type": "stream",
          "text": [
            "Drive already mounted at /content/gdrive; to attempt to forcibly remount, call drive.mount(\"/content/gdrive\", force_remount=True).\n"
          ],
          "name": "stdout"
        }
      ]
    },
    {
      "metadata": {
        "id": "g4XrKF24OxFL",
        "colab_type": "code",
        "colab": {
          "base_uri": "https://localhost:8080/",
          "height": 634
        },
        "outputId": "4dc91a85-461f-4513-e55c-d03df1ab5c6e"
      },
      "cell_type": "code",
      "source": [
        "#Process input data and answer\n",
        "df_tr=pd.read_csv(\"/content/gdrive/My Drive/train.csv\")\n",
        "df_te=pd.read_csv(\"/content/gdrive/My Drive/test.csv\")\n",
        "\n",
        "print df_tr.head()\n",
        "print df_te.head()\n"
      ],
      "execution_count": 29,
      "outputs": [
        {
          "output_type": "stream",
          "text": [
            "   PassengerId  Survived  Pclass  \\\n",
            "0            1         0       3   \n",
            "1            2         1       1   \n",
            "2            3         1       3   \n",
            "3            4         1       1   \n",
            "4            5         0       3   \n",
            "\n",
            "                                                Name     Sex   Age  SibSp  \\\n",
            "0                            Braund, Mr. Owen Harris    male  22.0      1   \n",
            "1  Cumings, Mrs. John Bradley (Florence Briggs Th...  female  38.0      1   \n",
            "2                             Heikkinen, Miss. Laina  female  26.0      0   \n",
            "3       Futrelle, Mrs. Jacques Heath (Lily May Peel)  female  35.0      1   \n",
            "4                           Allen, Mr. William Henry    male  35.0      0   \n",
            "\n",
            "   Parch            Ticket     Fare Cabin Embarked  \n",
            "0      0         A/5 21171   7.2500   NaN        S  \n",
            "1      0          PC 17599  71.2833   C85        C  \n",
            "2      0  STON/O2. 3101282   7.9250   NaN        S  \n",
            "3      0            113803  53.1000  C123        S  \n",
            "4      0            373450   8.0500   NaN        S  \n",
            "   PassengerId  Pclass                                          Name     Sex  \\\n",
            "0          892       3                              Kelly, Mr. James    male   \n",
            "1          893       3              Wilkes, Mrs. James (Ellen Needs)  female   \n",
            "2          894       2                     Myles, Mr. Thomas Francis    male   \n",
            "3          895       3                              Wirz, Mr. Albert    male   \n",
            "4          896       3  Hirvonen, Mrs. Alexander (Helga E Lindqvist)  female   \n",
            "\n",
            "    Age  SibSp  Parch   Ticket     Fare Cabin Embarked  \n",
            "0  34.5      0      0   330911   7.8292   NaN        Q  \n",
            "1  47.0      1      0   363272   7.0000   NaN        S  \n",
            "2  62.0      0      0   240276   9.6875   NaN        Q  \n",
            "3  27.0      0      0   315154   8.6625   NaN        S  \n",
            "4  22.0      1      1  3101298  12.2875   NaN        S  \n"
          ],
          "name": "stdout"
        }
      ]
    },
    {
      "metadata": {
        "id": "44Br2uA9Ox01",
        "colab_type": "code",
        "colab": {
          "base_uri": "https://localhost:8080/",
          "height": 129
        },
        "outputId": "fa10023e-ba35-4704-9c14-975bbd92b018"
      },
      "cell_type": "code",
      "source": [
        "df_tr=df_tr[[\"Survived\",\"Pclass\",\"Sex\",\"Age\",\"SibSp\",\"Parch\",\"Fare\",\"Embarked\"]]\n",
        "df_tr=df_tr.dropna(how=\"any\")\n",
        "df_tr=df_tr.replace({\"male\":0,\"female\":1,\"Q\":0,\"S\":1,\"C\":2})\n",
        "print df_tr.head()\n",
        "\n",
        "df_tr=df_tr.as_matrix()\n",
        "X_t=df_tr[:,1:]\n",
        "Y_t=np.array([df_tr[:,0]]).transpose()\n",
        "ninp=len(X_t[0])\n",
        "ndat=len(Y_t)\n",
        "\n",
        "df_te=df_te[[\"Pclass\",\"Sex\",\"Age\",\"SibSp\",\"Parch\",\"Fare\",\"Embarked\"]]\n",
        "df_te=df_te.dropna(how=\"any\")\n",
        "df_te=df_te.replace({\"male\":0,\"female\":1,\"Q\":0,\"S\":1,\"C\":2})\n",
        "X_v=df_te.as_matrix()"
      ],
      "execution_count": 30,
      "outputs": [
        {
          "output_type": "stream",
          "text": [
            "   Survived  Pclass  Sex   Age  SibSp  Parch     Fare  Embarked\n",
            "0         0       3    0  22.0      1      0   7.2500         1\n",
            "1         1       1    1  38.0      1      0  71.2833         2\n",
            "2         1       3    1  26.0      0      0   7.9250         1\n",
            "3         1       1    1  35.0      1      0  53.1000         1\n",
            "4         0       3    0  35.0      0      0   8.0500         1\n"
          ],
          "name": "stdout"
        }
      ]
    },
    {
      "metadata": {
        "id": "hg-SaGcBPfRP",
        "colab_type": "code",
        "colab": {}
      },
      "cell_type": "code",
      "source": [
        "#hyper parameters\n",
        "lr=0.01\t#learningrate\n",
        "epoch_num=1000\n",
        "\n",
        "def sig(z):\n",
        "\treturn 1.0/(1.0+np.exp(-z))\n",
        "\t\n",
        "def sigd(z):\n",
        "\tsigarr=sig(z)\n",
        "\treturn np.multiply(sigarr,(1.0-sigarr))\n",
        "\n",
        "\n",
        "#Weight matrix\n",
        "W1=np.random.normal(size=(ninp+1,ninp/2)) #W1[0] is for bias\n",
        "W2=np.random.normal(size=(ninp/2+1,1)) #W2[0] is for bias\n",
        "\n",
        "#feedfoward function \n",
        "def feedfoward(X,W,B):\n",
        "\treturn np.dot(X,W)+B\n",
        "\n",
        "def cost(Y,Yh):\n",
        "\tdelt=-np.multiply(Yh,np.log(Y+1e-8))-np.multiply(1.0-Yh,np.log(1.0-Y+1e-8))\n",
        "\treturn np.mean(delt)\n",
        "\n",
        "def get_gradient(delta,deriv,X):\n",
        "\tD=np.multiply(delta,deriv)\n",
        "\tG=np.dot(X.transpose(),D)\n",
        "\treturn G/float(len(delta))"
      ],
      "execution_count": 0,
      "outputs": []
    },
    {
      "metadata": {
        "id": "E6MFbS60QXxu",
        "colab_type": "code",
        "colab": {
          "base_uri": "https://localhost:8080/",
          "height": 204
        },
        "outputId": "bed78450-f6fa-4b78-c534-b82c42122385"
      },
      "cell_type": "code",
      "source": [
        "acc=np.array([])\n",
        "cst=np.array([])\n",
        "for i in range(epoch_num):\n",
        "\n",
        "\t#feedfoward\n",
        "\tXin=np.concatenate((np.ones((ndat,1)),X_t),axis=1)\n",
        "\tz1=feedfoward(Xin,W1,0)\n",
        "\tH=sig(z1)\n",
        "\tHin=np.concatenate((np.ones((ndat,1)),H),axis=1)\n",
        "\tz2=feedfoward(Hin,W2,0)\n",
        "\tY=sig(z2)\n",
        "\t\n",
        "\tcorr=np.equal(np.greater(Y,0.5),Y_t).astype(int)\n",
        "\tacc=np.append(acc,np.mean(corr))\n",
        "\tcst=np.append(cst,cost(Y,Y_t))\n",
        "\n",
        "\n",
        "\tif i%100 is 0 :\n",
        "\t\tprint i, cst[i], acc[i]\t\n",
        "\t\n",
        "\t#back propagation, gradient calculation\n",
        "\t#delta=Y-Yh\n",
        "\tdelta=(Y-Y_t).astype(float)/((Y+1e-8)*(1.0-Y+1e-8))\n",
        "\tgW2=get_gradient(delta,sigd(z2),Hin)\n",
        "\n",
        "\tdelta2=np.dot(np.multiply(delta,sigd(z2)),W2[1:,:].transpose())\n",
        "\t\n",
        "\tgW1=get_gradient(delta2,sigd(z1),Xin)\n",
        "\t\n",
        "\t#update\n",
        "\tW1=W1-lr*gW1\n",
        "\tW2=W2-lr*gW2\n"
      ],
      "execution_count": 32,
      "outputs": [
        {
          "output_type": "stream",
          "text": [
            "0 1.1600734033609885 0.4044943820224719\n",
            "100 0.8796106174723441 0.4044943820224719\n",
            "200 0.7527297403887137 0.4044943820224719\n",
            "300 0.7034731165470116 0.4044943820224719\n",
            "400 0.6852707104562886 0.5969101123595506\n",
            "500 0.6785726818309935 0.5955056179775281\n",
            "600 0.6760883355505984 0.5955056179775281\n",
            "700 0.6751581833965883 0.5955056179775281\n",
            "800 0.6748066376857357 0.5955056179775281\n",
            "900 0.6746720893414688 0.5955056179775281\n"
          ],
          "name": "stdout"
        }
      ]
    },
    {
      "metadata": {
        "id": "AT3TwNDtQg1T",
        "colab_type": "code",
        "colab": {
          "base_uri": "https://localhost:8080/",
          "height": 347
        },
        "outputId": "6ab9ad7b-302c-4650-d79c-c0c4a627eb7f"
      },
      "cell_type": "code",
      "source": [
        "plt.plot(np.arange(epoch_num),acc)\n",
        "plt.show()"
      ],
      "execution_count": 33,
      "outputs": [
        {
          "output_type": "display_data",
          "data": {
            "image/png": "[encoded data removed]",
            "text/plain": [
              "<Figure size 576x396 with 1 Axes>"
            ]
          },
          "metadata": {
            "tags": []
          }
        }
      ]
    },
    {
      "metadata": {
        "id": "GyeLjIBSQvBS",
        "colab_type": "code",
        "colab": {}
      },
      "cell_type": "code",
      "source": [
        ""
      ],
      "execution_count": 0,
      "outputs": []
    }
  ]
}
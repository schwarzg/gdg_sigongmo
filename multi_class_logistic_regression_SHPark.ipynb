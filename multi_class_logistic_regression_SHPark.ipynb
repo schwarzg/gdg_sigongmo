{
 "cells": [
  {
   "cell_type": "code",
   "execution_count": 36,
   "metadata": {},
   "outputs": [
    {
     "data": {
      "image/png": "[encoded data removed]",
      "text/plain": [
       "<Figure size 432x288 with 1 Axes>"
      ]
     },
     "metadata": {
      "needs_background": "light"
     },
     "output_type": "display_data"
    },
    {
     "name": "stdout",
     "output_type": "stream",
     "text": [
      "Epoch 1/20\n",
      "300/300 [==============================] - 0s 519us/step - loss: 0.7291\n",
      "Epoch 2/20\n",
      "300/300 [==============================] - 0s 20us/step - loss: 0.1615\n",
      "Epoch 3/20\n",
      "300/300 [==============================] - 0s 27us/step - loss: 0.1252\n",
      "Epoch 4/20\n",
      "300/300 [==============================] - 0s 23us/step - loss: 0.1006\n",
      "Epoch 5/20\n",
      "300/300 [==============================] - 0s 20us/step - loss: 0.0869\n",
      "Epoch 6/20\n",
      "300/300 [==============================] - 0s 20us/step - loss: 0.0766\n",
      "Epoch 7/20\n",
      "300/300 [==============================] - 0s 23us/step - loss: 0.0691\n",
      "Epoch 8/20\n",
      "300/300 [==============================] - 0s 20us/step - loss: 0.0628\n",
      "Epoch 9/20\n",
      "300/300 [==============================] - 0s 20us/step - loss: 0.0581\n",
      "Epoch 10/20\n",
      "300/300 [==============================] - 0s 17us/step - loss: 0.0539\n",
      "Epoch 11/20\n",
      "300/300 [==============================] - 0s 17us/step - loss: 0.0501\n",
      "Epoch 12/20\n",
      "300/300 [==============================] - 0s 23us/step - loss: 0.0472\n",
      "Epoch 13/20\n",
      "300/300 [==============================] - 0s 20us/step - loss: 0.0449\n",
      "Epoch 14/20\n",
      "300/300 [==============================] - 0s 23us/step - loss: 0.0426\n",
      "Epoch 15/20\n",
      "300/300 [==============================] - 0s 23us/step - loss: 0.0406\n",
      "Epoch 16/20\n",
      "300/300 [==============================] - 0s 23us/step - loss: 0.0387\n",
      "Epoch 17/20\n",
      "300/300 [==============================] - 0s 20us/step - loss: 0.0373\n",
      "Epoch 18/20\n",
      "300/300 [==============================] - 0s 21us/step - loss: 0.0360\n",
      "Epoch 19/20\n",
      "300/300 [==============================] - 0s 17us/step - loss: 0.0347\n",
      "Epoch 20/20\n",
      "300/300 [==============================] - 0s 18us/step - loss: 0.0333\n",
      "\n",
      "예측된 classes :  [2 1 2 2 1 2 1 0 0 0]\n",
      "예측과 실제값 확인:  [ True  True  True  True  True  True  True  True  True  True]\n",
      "각 예측한 클래스의 확률: \n",
      "[[2.2002127e-09 1.0749286e-02 9.8925078e-01]\n",
      " [4.7988873e-02 9.5093697e-01 1.0740884e-03]\n",
      " [1.5654697e-08 1.9925926e-02 9.8007411e-01]\n",
      " [2.8703797e-09 8.3574783e-03 9.9164259e-01]\n",
      " [3.1631873e-03 9.9004292e-01 6.7938892e-03]\n",
      " [6.5793944e-09 1.4378199e-02 9.8562175e-01]\n",
      " [6.8252101e-03 9.7510558e-01 1.8069142e-02]\n",
      " [9.8989058e-01 1.0109365e-02 1.0881963e-08]\n",
      " [9.8028493e-01 1.9715017e-02 2.6174451e-08]\n",
      " [9.9714309e-01 2.8569389e-03 1.6319660e-09]]\n"
     ]
    }
   ],
   "source": [
    "# Multi-class logistic regression\n",
    "# pp.118 - 123\n",
    "\n",
    "from sklearn.utils import shuffle # 데이터를 섞기 위해서 사용 pip install --upgrade scikit-learn으로 설치 가능\n",
    "import numpy as np\n",
    "\n",
    "\n",
    "M=2    # 입력 데이터의 차원\n",
    "K=3    # 클래스 수\n",
    "n=100  # 각 클래스에 있는 데이터 수\n",
    "N=n*K  # 전체 데이터 수\n",
    "\n",
    "# 샘플 데이터 셋 생성\n",
    "X1 = np.random.randn(n, M) + np.array([0, 10]) #randn은 Gaussian distribution\n",
    "X2 = np.random.randn(n, M) + np.array([5, 5])\n",
    "X3 = np.random.randn(n, M) + np.array([10, 0])\n",
    "Y1 = np.array([[1, 0, 0] for i in range(n)])\n",
    "Y2 = np.array([[0, 1, 0] for i in range(n)])\n",
    "Y3 = np.array([[0, 0, 1] for i in range(n)])\n",
    "X = np.concatenate((X1,X2,X3), axis=0)\n",
    "Y = np.concatenate((Y1,Y2,Y3), axis=0)\n",
    "\n",
    "import matplotlib.pyplot as plt\n",
    "plt.plot(X1, 'ro', X2, 'b^', X3, 'kx')\n",
    "plt.show()\n",
    "\n",
    "from keras.models import Sequential\n",
    "from keras.layers import Dense, Activation\n",
    "from keras.optimizers import SGD\n",
    "\n",
    "# 모델 생성\n",
    "model = Sequential()\n",
    "model.add(Dense(input_dim=M, units=K)) # 입력차원 = M, 출력 차원 = K\n",
    "model.add(Activation('softmax'))\n",
    "\n",
    "lr = 0.1 # learing rate\n",
    "model.compile(loss='categorical_crossentropy', optimizer=SGD(lr=lr))\n",
    "\n",
    "minibatch_size = 50\n",
    "epochs = 20\n",
    "model.fit(X,Y, epochs=epochs, batch_size=minibatch_size)\n",
    "\n",
    "# 결과를 보기 위해서 shuffle된 데이터에서 10개를 선택 후 확인\n",
    "X_, Y_ = shuffle(X,Y)\n",
    "classes = model.predict_classes(X_[0:10], batch_size=minibatch_size) \n",
    "print()\n",
    "print('예측된 classes : ', classes)\n",
    "prob = model.predict_proba(X_[0:10], batch_size=minibatch_size) # predict_proba의 출력은 각 클래스에 대한 확률\n",
    "print('예측과 실제값 확인: ', np.argmax(model.predict(X_[0:10]), axis=1) == classes)\n",
    "# argmax: axis에 해당하는 값들 중에서 가장 큰 값의 인덱스를 반환해주는 함수\n",
    "#         axis=1이면 y축 기준\n",
    "\n",
    "print('각 예측한 클래스의 확률: ')\n",
    "print(prob)"
   ]
  },
  {
   "cell_type": "code",
   "execution_count": null,
   "metadata": {},
   "outputs": [],
   "source": []
  }
 ],
 "metadata": {
  "kernelspec": {
   "display_name": "Python 3",
   "language": "python",
   "name": "python3"
  },
  "language_info": {
   "codemirror_mode": {
    "name": "ipython",
    "version": 3
   },
   "file_extension": ".py",
   "mimetype": "text/x-python",
   "name": "python",
   "nbconvert_exporter": "python",
   "pygments_lexer": "ipython3",
   "version": "3.6.7"
  }
 },
 "nbformat": 4,
 "nbformat_minor": 2
}
